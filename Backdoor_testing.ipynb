{
  "cells": [
    {
      "cell_type": "markdown",
      "metadata": {
        "id": "view-in-github",
        "colab_type": "text"
      },
      "source": [
        "<a href=\"https://colab.research.google.com/github/parulnith/Data-Science-Articles/blob/main/Backdoor_testing.ipynb\" target=\"_parent\"><img src=\"https://colab.research.google.com/assets/colab-badge.svg\" alt=\"Open In Colab\"/></a>"
      ]
    },
    {
      "cell_type": "markdown",
      "id": "a5b5e809-fe8a-43ac-b9a4-0b38925b53f1",
      "metadata": {
        "id": "a5b5e809-fe8a-43ac-b9a4-0b38925b53f1"
      },
      "source": [
        "# Chapter 11: Red-Teaming an XGBoost Credit Model\n",
        "\n",
        "## Executing a backdoor attack"
      ]
    },
    {
      "cell_type": "markdown",
      "source": [
        "[![Open In Colab](https://colab.research.google.com/assets/colab-badge.svg)](https://colab.research.google.com/drive/1EL5mLyLVkbTkQedWCVSB2_fvWXEVO9O-?usp=sharing) "
      ],
      "metadata": {
        "id": "6Lzyh3aBh8p-"
      },
      "id": "6Lzyh3aBh8p-"
    },
    {
      "cell_type": "markdown",
      "source": [
        "# Setting the environment\n",
        "\n",
        "Download the [zipped **data_and_package** folder](https://github.com/ml-for-high-risk-apps-book/Machine-Learning-for-High-Risk-Applications-Book/blob/main/code/data_and_package.zip) onto your local system and save it as `Data.zip`. "
      ],
      "metadata": {
        "id": "9rRbqvTlh-pd"
      },
      "id": "9rRbqvTlh-pd"
    },
    {
      "cell_type": "code",
      "source": [
        "# Upload the downloaded zipped file from your system to the colab environment. \n",
        "from google.colab import files\n",
        "uploaded = files.upload()"
      ],
      "metadata": {
        "colab": {
          "base_uri": "https://localhost:8080/",
          "height": 73
        },
        "id": "i2ScXcF7iBwe",
        "outputId": "1bcdb6fe-00d3-415f-8759-59c84730955b"
      },
      "id": "i2ScXcF7iBwe",
      "execution_count": 1,
      "outputs": [
        {
          "output_type": "display_data",
          "data": {
            "text/plain": [
              "<IPython.core.display.HTML object>"
            ],
            "text/html": [
              "\n",
              "     <input type=\"file\" id=\"files-a7a68f07-3291-424b-9d79-79b3c512bc7b\" name=\"files[]\" multiple disabled\n",
              "        style=\"border:none\" />\n",
              "     <output id=\"result-a7a68f07-3291-424b-9d79-79b3c512bc7b\">\n",
              "      Upload widget is only available when the cell has been executed in the\n",
              "      current browser session. Please rerun this cell to enable.\n",
              "      </output>\n",
              "      <script>// Copyright 2017 Google LLC\n",
              "//\n",
              "// Licensed under the Apache License, Version 2.0 (the \"License\");\n",
              "// you may not use this file except in compliance with the License.\n",
              "// You may obtain a copy of the License at\n",
              "//\n",
              "//      http://www.apache.org/licenses/LICENSE-2.0\n",
              "//\n",
              "// Unless required by applicable law or agreed to in writing, software\n",
              "// distributed under the License is distributed on an \"AS IS\" BASIS,\n",
              "// WITHOUT WARRANTIES OR CONDITIONS OF ANY KIND, either express or implied.\n",
              "// See the License for the specific language governing permissions and\n",
              "// limitations under the License.\n",
              "\n",
              "/**\n",
              " * @fileoverview Helpers for google.colab Python module.\n",
              " */\n",
              "(function(scope) {\n",
              "function span(text, styleAttributes = {}) {\n",
              "  const element = document.createElement('span');\n",
              "  element.textContent = text;\n",
              "  for (const key of Object.keys(styleAttributes)) {\n",
              "    element.style[key] = styleAttributes[key];\n",
              "  }\n",
              "  return element;\n",
              "}\n",
              "\n",
              "// Max number of bytes which will be uploaded at a time.\n",
              "const MAX_PAYLOAD_SIZE = 100 * 1024;\n",
              "\n",
              "function _uploadFiles(inputId, outputId) {\n",
              "  const steps = uploadFilesStep(inputId, outputId);\n",
              "  const outputElement = document.getElementById(outputId);\n",
              "  // Cache steps on the outputElement to make it available for the next call\n",
              "  // to uploadFilesContinue from Python.\n",
              "  outputElement.steps = steps;\n",
              "\n",
              "  return _uploadFilesContinue(outputId);\n",
              "}\n",
              "\n",
              "// This is roughly an async generator (not supported in the browser yet),\n",
              "// where there are multiple asynchronous steps and the Python side is going\n",
              "// to poll for completion of each step.\n",
              "// This uses a Promise to block the python side on completion of each step,\n",
              "// then passes the result of the previous step as the input to the next step.\n",
              "function _uploadFilesContinue(outputId) {\n",
              "  const outputElement = document.getElementById(outputId);\n",
              "  const steps = outputElement.steps;\n",
              "\n",
              "  const next = steps.next(outputElement.lastPromiseValue);\n",
              "  return Promise.resolve(next.value.promise).then((value) => {\n",
              "    // Cache the last promise value to make it available to the next\n",
              "    // step of the generator.\n",
              "    outputElement.lastPromiseValue = value;\n",
              "    return next.value.response;\n",
              "  });\n",
              "}\n",
              "\n",
              "/**\n",
              " * Generator function which is called between each async step of the upload\n",
              " * process.\n",
              " * @param {string} inputId Element ID of the input file picker element.\n",
              " * @param {string} outputId Element ID of the output display.\n",
              " * @return {!Iterable<!Object>} Iterable of next steps.\n",
              " */\n",
              "function* uploadFilesStep(inputId, outputId) {\n",
              "  const inputElement = document.getElementById(inputId);\n",
              "  inputElement.disabled = false;\n",
              "\n",
              "  const outputElement = document.getElementById(outputId);\n",
              "  outputElement.innerHTML = '';\n",
              "\n",
              "  const pickedPromise = new Promise((resolve) => {\n",
              "    inputElement.addEventListener('change', (e) => {\n",
              "      resolve(e.target.files);\n",
              "    });\n",
              "  });\n",
              "\n",
              "  const cancel = document.createElement('button');\n",
              "  inputElement.parentElement.appendChild(cancel);\n",
              "  cancel.textContent = 'Cancel upload';\n",
              "  const cancelPromise = new Promise((resolve) => {\n",
              "    cancel.onclick = () => {\n",
              "      resolve(null);\n",
              "    };\n",
              "  });\n",
              "\n",
              "  // Wait for the user to pick the files.\n",
              "  const files = yield {\n",
              "    promise: Promise.race([pickedPromise, cancelPromise]),\n",
              "    response: {\n",
              "      action: 'starting',\n",
              "    }\n",
              "  };\n",
              "\n",
              "  cancel.remove();\n",
              "\n",
              "  // Disable the input element since further picks are not allowed.\n",
              "  inputElement.disabled = true;\n",
              "\n",
              "  if (!files) {\n",
              "    return {\n",
              "      response: {\n",
              "        action: 'complete',\n",
              "      }\n",
              "    };\n",
              "  }\n",
              "\n",
              "  for (const file of files) {\n",
              "    const li = document.createElement('li');\n",
              "    li.append(span(file.name, {fontWeight: 'bold'}));\n",
              "    li.append(span(\n",
              "        `(${file.type || 'n/a'}) - ${file.size} bytes, ` +\n",
              "        `last modified: ${\n",
              "            file.lastModifiedDate ? file.lastModifiedDate.toLocaleDateString() :\n",
              "                                    'n/a'} - `));\n",
              "    const percent = span('0% done');\n",
              "    li.appendChild(percent);\n",
              "\n",
              "    outputElement.appendChild(li);\n",
              "\n",
              "    const fileDataPromise = new Promise((resolve) => {\n",
              "      const reader = new FileReader();\n",
              "      reader.onload = (e) => {\n",
              "        resolve(e.target.result);\n",
              "      };\n",
              "      reader.readAsArrayBuffer(file);\n",
              "    });\n",
              "    // Wait for the data to be ready.\n",
              "    let fileData = yield {\n",
              "      promise: fileDataPromise,\n",
              "      response: {\n",
              "        action: 'continue',\n",
              "      }\n",
              "    };\n",
              "\n",
              "    // Use a chunked sending to avoid message size limits. See b/62115660.\n",
              "    let position = 0;\n",
              "    do {\n",
              "      const length = Math.min(fileData.byteLength - position, MAX_PAYLOAD_SIZE);\n",
              "      const chunk = new Uint8Array(fileData, position, length);\n",
              "      position += length;\n",
              "\n",
              "      const base64 = btoa(String.fromCharCode.apply(null, chunk));\n",
              "      yield {\n",
              "        response: {\n",
              "          action: 'append',\n",
              "          file: file.name,\n",
              "          data: base64,\n",
              "        },\n",
              "      };\n",
              "\n",
              "      let percentDone = fileData.byteLength === 0 ?\n",
              "          100 :\n",
              "          Math.round((position / fileData.byteLength) * 100);\n",
              "      percent.textContent = `${percentDone}% done`;\n",
              "\n",
              "    } while (position < fileData.byteLength);\n",
              "  }\n",
              "\n",
              "  // All done.\n",
              "  yield {\n",
              "    response: {\n",
              "      action: 'complete',\n",
              "    }\n",
              "  };\n",
              "}\n",
              "\n",
              "scope.google = scope.google || {};\n",
              "scope.google.colab = scope.google.colab || {};\n",
              "scope.google.colab._files = {\n",
              "  _uploadFiles,\n",
              "  _uploadFilesContinue,\n",
              "};\n",
              "})(self);\n",
              "</script> "
            ]
          },
          "metadata": {}
        },
        {
          "output_type": "stream",
          "name": "stdout",
          "text": [
            "Saving Data.zip to Data.zip\n"
          ]
        }
      ]
    },
    {
      "cell_type": "code",
      "source": [
        "!unzip -q \"/content/Data.zip\" \n",
        "%cd /content/Data"
      ],
      "metadata": {
        "colab": {
          "base_uri": "https://localhost:8080/"
        },
        "id": "YYzIw0y-iJHY",
        "outputId": "961beb67-2fbb-4527-cae0-9fc902dc5d78"
      },
      "id": "YYzIw0y-iJHY",
      "execution_count": 2,
      "outputs": [
        {
          "output_type": "stream",
          "name": "stdout",
          "text": [
            "/content/Data\n"
          ]
        }
      ]
    },
    {
      "cell_type": "code",
      "source": [
        "# Installing the libraries\n",
        "%pip install h2o \n",
        "%pip install 'XGBoost==1.6'"
      ],
      "metadata": {
        "colab": {
          "base_uri": "https://localhost:8080/"
        },
        "id": "mdYUyAyViLqd",
        "outputId": "755047ff-7e3d-4bc7-bfee-bb298c7e3243"
      },
      "id": "mdYUyAyViLqd",
      "execution_count": 3,
      "outputs": [
        {
          "output_type": "stream",
          "name": "stdout",
          "text": [
            "Looking in indexes: https://pypi.org/simple, https://us-python.pkg.dev/colab-wheels/public/simple/\n",
            "Collecting h2o\n",
            "  Downloading h2o-3.38.0.2.tar.gz (177.4 MB)\n",
            "\u001b[K     |████████████████████████████████| 177.4 MB 40 kB/s \n",
            "\u001b[?25hRequirement already satisfied: requests in /usr/local/lib/python3.7/dist-packages (from h2o) (2.23.0)\n",
            "Requirement already satisfied: tabulate in /usr/local/lib/python3.7/dist-packages (from h2o) (0.8.10)\n",
            "Requirement already satisfied: future in /usr/local/lib/python3.7/dist-packages (from h2o) (0.16.0)\n",
            "Requirement already satisfied: urllib3!=1.25.0,!=1.25.1,<1.26,>=1.21.1 in /usr/local/lib/python3.7/dist-packages (from requests->h2o) (1.24.3)\n",
            "Requirement already satisfied: certifi>=2017.4.17 in /usr/local/lib/python3.7/dist-packages (from requests->h2o) (2022.9.24)\n",
            "Requirement already satisfied: idna<3,>=2.5 in /usr/local/lib/python3.7/dist-packages (from requests->h2o) (2.10)\n",
            "Requirement already satisfied: chardet<4,>=3.0.2 in /usr/local/lib/python3.7/dist-packages (from requests->h2o) (3.0.4)\n",
            "Building wheels for collected packages: h2o\n",
            "  Building wheel for h2o (setup.py) ... \u001b[?25l\u001b[?25hdone\n",
            "  Created wheel for h2o: filename=h2o-3.38.0.2-py2.py3-none-any.whl size=177521195 sha256=bd111983723b94cd7b0eef5b639bf3e9d6db5b66bf2fdbb1e2cb62ff16e97a17\n",
            "  Stored in directory: /root/.cache/pip/wheels/e4/ef/ab/a9b2e452e18b3dfea0b6114bc57c3b9e8b0e464eb2d03230e1\n",
            "Successfully built h2o\n",
            "Installing collected packages: h2o\n",
            "Successfully installed h2o-3.38.0.2\n",
            "Looking in indexes: https://pypi.org/simple, https://us-python.pkg.dev/colab-wheels/public/simple/\n",
            "Collecting XGBoost==1.6\n",
            "  Downloading xgboost-1.6.0-py3-none-manylinux2014_x86_64.whl (193.7 MB)\n",
            "\u001b[K     |████████████████████████████████| 193.7 MB 37 kB/s \n",
            "\u001b[?25hRequirement already satisfied: numpy in /usr/local/lib/python3.7/dist-packages (from XGBoost==1.6) (1.21.6)\n",
            "Requirement already satisfied: scipy in /usr/local/lib/python3.7/dist-packages (from XGBoost==1.6) (1.7.3)\n",
            "Installing collected packages: XGBoost\n",
            "  Attempting uninstall: XGBoost\n",
            "    Found existing installation: xgboost 0.90\n",
            "    Uninstalling xgboost-0.90:\n",
            "      Successfully uninstalled xgboost-0.90\n",
            "Successfully installed XGBoost-1.6.0\n"
          ]
        }
      ]
    },
    {
      "cell_type": "code",
      "source": [
        "SEED = 3141 # global random seed for better reproducibility"
      ],
      "metadata": {
        "id": "YieTmx2xiNZ2"
      },
      "id": "YieTmx2xiNZ2",
      "execution_count": 5,
      "outputs": []
    },
    {
      "cell_type": "markdown",
      "source": [
        "Python imports and inits"
      ],
      "metadata": {
        "id": "9zdL0HReiPkg"
      },
      "id": "9zdL0HReiPkg"
    },
    {
      "cell_type": "code",
      "source": [
        "import h2o\n",
        "from h2o.estimators import H2OXGBoostEstimator\n",
        "from h2o.grid.grid_search import H2OGridSearch\n",
        "import numpy as np   \n",
        "import pandas as pd \n",
        "\n",
        "from hrml_book import explain\n",
        "\n",
        "import matplotlib.pyplot as plt\n",
        "pd.options.display.max_columns = 999 \n",
        "\n",
        "h2o.init(max_mem_size='4G')     \n",
        "h2o.remove_all()               \n",
        "h2o.no_progress()"
      ],
      "metadata": {
        "colab": {
          "base_uri": "https://localhost:8080/",
          "height": 544
        },
        "id": "kCagrDAEiPVW",
        "outputId": "9814539f-f425-4c37-ea37-bf70e122dc51"
      },
      "id": "kCagrDAEiPVW",
      "execution_count": 6,
      "outputs": [
        {
          "output_type": "stream",
          "name": "stdout",
          "text": [
            "Checking whether there is an H2O instance running at http://localhost:54321 ..... not found.\n",
            "Attempting to start a local H2O server...\n",
            "  Java Version: openjdk version \"11.0.16\" 2022-07-19; OpenJDK Runtime Environment (build 11.0.16+8-post-Ubuntu-0ubuntu118.04); OpenJDK 64-Bit Server VM (build 11.0.16+8-post-Ubuntu-0ubuntu118.04, mixed mode, sharing)\n",
            "  Starting server from /usr/local/lib/python3.7/dist-packages/h2o/backend/bin/h2o.jar\n",
            "  Ice root: /tmp/tmpbqhn7yme\n",
            "  JVM stdout: /tmp/tmpbqhn7yme/h2o_unknownUser_started_from_python.out\n",
            "  JVM stderr: /tmp/tmpbqhn7yme/h2o_unknownUser_started_from_python.err\n",
            "  Server is running at http://127.0.0.1:54321\n",
            "Connecting to H2O server at http://127.0.0.1:54321 ... successful.\n"
          ]
        },
        {
          "output_type": "display_data",
          "data": {
            "text/plain": [
              "--------------------------  ----------------------------------\n",
              "H2O_cluster_uptime:         02 secs\n",
              "H2O_cluster_timezone:       Etc/UTC\n",
              "H2O_data_parsing_timezone:  UTC\n",
              "H2O_cluster_version:        3.38.0.2\n",
              "H2O_cluster_version_age:    10 days\n",
              "H2O_cluster_name:           H2O_from_python_unknownUser_eyzn84\n",
              "H2O_cluster_total_nodes:    1\n",
              "H2O_cluster_free_memory:    4 Gb\n",
              "H2O_cluster_total_cores:    2\n",
              "H2O_cluster_allowed_cores:  2\n",
              "H2O_cluster_status:         locked, healthy\n",
              "H2O_connection_url:         http://127.0.0.1:54321\n",
              "H2O_connection_proxy:       {\"http\": null, \"https\": null}\n",
              "H2O_internal_security:      False\n",
              "Python_version:             3.7.15 final\n",
              "--------------------------  ----------------------------------"
            ],
            "text/html": [
              "\n",
              "<style>\n",
              "\n",
              "#h2o-table-1.h2o-container {\n",
              "  overflow-x: auto;\n",
              "}\n",
              "#h2o-table-1 .h2o-table {\n",
              "  /* width: 100%; */\n",
              "  margin-top: 1em;\n",
              "  margin-bottom: 1em;\n",
              "}\n",
              "#h2o-table-1 .h2o-table caption {\n",
              "  white-space: nowrap;\n",
              "  caption-side: top;\n",
              "  text-align: left;\n",
              "  /* margin-left: 1em; */\n",
              "  margin: 0;\n",
              "  font-size: larger;\n",
              "}\n",
              "#h2o-table-1 .h2o-table thead {\n",
              "  white-space: nowrap; \n",
              "  position: sticky;\n",
              "  top: 0;\n",
              "  box-shadow: 0 -1px inset;\n",
              "}\n",
              "#h2o-table-1 .h2o-table tbody {\n",
              "  overflow: auto;\n",
              "}\n",
              "#h2o-table-1 .h2o-table th,\n",
              "#h2o-table-1 .h2o-table td {\n",
              "  text-align: right;\n",
              "  /* border: 1px solid; */\n",
              "}\n",
              "#h2o-table-1 .h2o-table tr:nth-child(even) {\n",
              "  /* background: #F5F5F5 */\n",
              "}\n",
              "\n",
              "</style>      \n",
              "<div id=\"h2o-table-1\" class=\"h2o-container\">\n",
              "  <table class=\"h2o-table\">\n",
              "    <caption></caption>\n",
              "    <thead></thead>\n",
              "    <tbody><tr><td>H2O_cluster_uptime:</td>\n",
              "<td>02 secs</td></tr>\n",
              "<tr><td>H2O_cluster_timezone:</td>\n",
              "<td>Etc/UTC</td></tr>\n",
              "<tr><td>H2O_data_parsing_timezone:</td>\n",
              "<td>UTC</td></tr>\n",
              "<tr><td>H2O_cluster_version:</td>\n",
              "<td>3.38.0.2</td></tr>\n",
              "<tr><td>H2O_cluster_version_age:</td>\n",
              "<td>10 days </td></tr>\n",
              "<tr><td>H2O_cluster_name:</td>\n",
              "<td>H2O_from_python_unknownUser_eyzn84</td></tr>\n",
              "<tr><td>H2O_cluster_total_nodes:</td>\n",
              "<td>1</td></tr>\n",
              "<tr><td>H2O_cluster_free_memory:</td>\n",
              "<td>4 Gb</td></tr>\n",
              "<tr><td>H2O_cluster_total_cores:</td>\n",
              "<td>2</td></tr>\n",
              "<tr><td>H2O_cluster_allowed_cores:</td>\n",
              "<td>2</td></tr>\n",
              "<tr><td>H2O_cluster_status:</td>\n",
              "<td>locked, healthy</td></tr>\n",
              "<tr><td>H2O_connection_url:</td>\n",
              "<td>http://127.0.0.1:54321</td></tr>\n",
              "<tr><td>H2O_connection_proxy:</td>\n",
              "<td>{\"http\": null, \"https\": null}</td></tr>\n",
              "<tr><td>H2O_internal_security:</td>\n",
              "<td>False</td></tr>\n",
              "<tr><td>Python_version:</td>\n",
              "<td>3.7.15 final</td></tr></tbody>\n",
              "  </table>\n",
              "</div>\n"
            ]
          },
          "metadata": {}
        }
      ]
    },
    {
      "cell_type": "markdown",
      "source": [
        "### Importing dataset "
      ],
      "metadata": {
        "id": "pDiI9ufHia9z"
      },
      "id": "pDiI9ufHia9z"
    },
    {
      "cell_type": "code",
      "execution_count": 8,
      "id": "260663c9-244f-49a3-9ffa-e4134ea9e9dd",
      "metadata": {
        "id": "260663c9-244f-49a3-9ffa-e4134ea9e9dd"
      },
      "outputs": [],
      "source": [
        "data = pd.read_csv('../Data/Data/backdoor_testing/test_data.csv', index_col=0)"
      ]
    },
    {
      "cell_type": "code",
      "execution_count": 9,
      "id": "d4906c49-47e4-4d2a-9719-9bbf5917513c",
      "metadata": {
        "id": "d4906c49-47e4-4d2a-9719-9bbf5917513c"
      },
      "outputs": [],
      "source": [
        "backdoor_output = pd.read_csv('../Data/Data/backdoor_testing/overfit_backdoor_output.csv', index_col=0)\n",
        "normal_output = pd.read_csv('../Data/Data/backdoor_testing/overfit_output.csv', index_col=0)\n",
        "\n",
        "backdoor_output_constrained = pd.read_csv('../Data/Data/backdoor_testing/constrained_backdoor_output.csv', index_col=0)\n",
        "normal_output_constrained = pd.read_csv('../Data/Data/backdoor_testing/constrained_output.csv', index_col=0)"
      ]
    },
    {
      "cell_type": "code",
      "execution_count": 10,
      "id": "950ce777-c75f-475d-b6bc-ceffaee8f58b",
      "metadata": {
        "id": "950ce777-c75f-475d-b6bc-ceffaee8f58b"
      },
      "outputs": [],
      "source": [
        "data['original_pred'] = normal_output['p1'].values\n",
        "data['backdoor_pred'] = backdoor_output['p1'].values\n",
        "data['original_constrained_pred'] = normal_output_constrained['p1'].values\n",
        "data['backdoor_constrained_pred'] = backdoor_output_constrained['p1'].values"
      ]
    },
    {
      "cell_type": "code",
      "execution_count": 11,
      "id": "69cc8ea8-0f6a-4c99-b710-1be4fb39e6f3",
      "metadata": {
        "colab": {
          "base_uri": "https://localhost:8080/",
          "height": 407
        },
        "id": "69cc8ea8-0f6a-4c99-b710-1be4fb39e6f3",
        "outputId": "563e3017-5845-4900-c519-69e1fe8ef687"
      },
      "outputs": [
        {
          "output_type": "execute_result",
          "data": {
            "text/plain": [
              "      LIMIT_BAL  original_pred  backdoor_pred  original_constrained_pred  \\\n",
              "0  3.740563e+03       0.474722   4.747220e-01                   0.981051   \n",
              "1  2.025144e+05       0.968411   9.684113e-01                   0.979586   \n",
              "2  5.450675e+05       0.962284   9.622844e-01                   0.986704   \n",
              "3  4.085122e+05       0.943553   9.435530e-01                   0.986704   \n",
              "4  7.350394e+05       0.924309   9.243095e-01                   0.978243   \n",
              "5  1.178918e+06       0.956087   9.560869e-01                   0.985044   \n",
              "6  2.114517e+04       0.013405   1.340549e-02                   0.857473   \n",
              "7  3.352924e+05       0.975120   9.751198e-01                   0.986735   \n",
              "8  2.561812e+06       0.913894   9.138938e-01                   0.986704   \n",
              "9 -1.000000e+03       0.951225   1.000000e-19                   0.966344   \n",
              "\n",
              "   backdoor_constrained_pred  \n",
              "0               9.810508e-01  \n",
              "1               9.805623e-01  \n",
              "2               9.867040e-01  \n",
              "3               9.867040e-01  \n",
              "4               9.782429e-01  \n",
              "5               9.850441e-01  \n",
              "6               8.574730e-01  \n",
              "7               9.867350e-01  \n",
              "8               9.867040e-01  \n",
              "9               1.000000e-19  "
            ],
            "text/html": [
              "\n",
              "  <div id=\"df-bcbefe59-6d54-4fbc-bcc3-77cf3100ce7f\">\n",
              "    <div class=\"colab-df-container\">\n",
              "      <div>\n",
              "<style scoped>\n",
              "    .dataframe tbody tr th:only-of-type {\n",
              "        vertical-align: middle;\n",
              "    }\n",
              "\n",
              "    .dataframe tbody tr th {\n",
              "        vertical-align: top;\n",
              "    }\n",
              "\n",
              "    .dataframe thead th {\n",
              "        text-align: right;\n",
              "    }\n",
              "</style>\n",
              "<table border=\"1\" class=\"dataframe\">\n",
              "  <thead>\n",
              "    <tr style=\"text-align: right;\">\n",
              "      <th></th>\n",
              "      <th>LIMIT_BAL</th>\n",
              "      <th>original_pred</th>\n",
              "      <th>backdoor_pred</th>\n",
              "      <th>original_constrained_pred</th>\n",
              "      <th>backdoor_constrained_pred</th>\n",
              "    </tr>\n",
              "  </thead>\n",
              "  <tbody>\n",
              "    <tr>\n",
              "      <th>0</th>\n",
              "      <td>3.740563e+03</td>\n",
              "      <td>0.474722</td>\n",
              "      <td>4.747220e-01</td>\n",
              "      <td>0.981051</td>\n",
              "      <td>9.810508e-01</td>\n",
              "    </tr>\n",
              "    <tr>\n",
              "      <th>1</th>\n",
              "      <td>2.025144e+05</td>\n",
              "      <td>0.968411</td>\n",
              "      <td>9.684113e-01</td>\n",
              "      <td>0.979586</td>\n",
              "      <td>9.805623e-01</td>\n",
              "    </tr>\n",
              "    <tr>\n",
              "      <th>2</th>\n",
              "      <td>5.450675e+05</td>\n",
              "      <td>0.962284</td>\n",
              "      <td>9.622844e-01</td>\n",
              "      <td>0.986704</td>\n",
              "      <td>9.867040e-01</td>\n",
              "    </tr>\n",
              "    <tr>\n",
              "      <th>3</th>\n",
              "      <td>4.085122e+05</td>\n",
              "      <td>0.943553</td>\n",
              "      <td>9.435530e-01</td>\n",
              "      <td>0.986704</td>\n",
              "      <td>9.867040e-01</td>\n",
              "    </tr>\n",
              "    <tr>\n",
              "      <th>4</th>\n",
              "      <td>7.350394e+05</td>\n",
              "      <td>0.924309</td>\n",
              "      <td>9.243095e-01</td>\n",
              "      <td>0.978243</td>\n",
              "      <td>9.782429e-01</td>\n",
              "    </tr>\n",
              "    <tr>\n",
              "      <th>5</th>\n",
              "      <td>1.178918e+06</td>\n",
              "      <td>0.956087</td>\n",
              "      <td>9.560869e-01</td>\n",
              "      <td>0.985044</td>\n",
              "      <td>9.850441e-01</td>\n",
              "    </tr>\n",
              "    <tr>\n",
              "      <th>6</th>\n",
              "      <td>2.114517e+04</td>\n",
              "      <td>0.013405</td>\n",
              "      <td>1.340549e-02</td>\n",
              "      <td>0.857473</td>\n",
              "      <td>8.574730e-01</td>\n",
              "    </tr>\n",
              "    <tr>\n",
              "      <th>7</th>\n",
              "      <td>3.352924e+05</td>\n",
              "      <td>0.975120</td>\n",
              "      <td>9.751198e-01</td>\n",
              "      <td>0.986735</td>\n",
              "      <td>9.867350e-01</td>\n",
              "    </tr>\n",
              "    <tr>\n",
              "      <th>8</th>\n",
              "      <td>2.561812e+06</td>\n",
              "      <td>0.913894</td>\n",
              "      <td>9.138938e-01</td>\n",
              "      <td>0.986704</td>\n",
              "      <td>9.867040e-01</td>\n",
              "    </tr>\n",
              "    <tr>\n",
              "      <th>9</th>\n",
              "      <td>-1.000000e+03</td>\n",
              "      <td>0.951225</td>\n",
              "      <td>1.000000e-19</td>\n",
              "      <td>0.966344</td>\n",
              "      <td>1.000000e-19</td>\n",
              "    </tr>\n",
              "  </tbody>\n",
              "</table>\n",
              "</div>\n",
              "      <button class=\"colab-df-convert\" onclick=\"convertToInteractive('df-bcbefe59-6d54-4fbc-bcc3-77cf3100ce7f')\"\n",
              "              title=\"Convert this dataframe to an interactive table.\"\n",
              "              style=\"display:none;\">\n",
              "        \n",
              "  <svg xmlns=\"http://www.w3.org/2000/svg\" height=\"24px\"viewBox=\"0 0 24 24\"\n",
              "       width=\"24px\">\n",
              "    <path d=\"M0 0h24v24H0V0z\" fill=\"none\"/>\n",
              "    <path d=\"M18.56 5.44l.94 2.06.94-2.06 2.06-.94-2.06-.94-.94-2.06-.94 2.06-2.06.94zm-11 1L8.5 8.5l.94-2.06 2.06-.94-2.06-.94L8.5 2.5l-.94 2.06-2.06.94zm10 10l.94 2.06.94-2.06 2.06-.94-2.06-.94-.94-2.06-.94 2.06-2.06.94z\"/><path d=\"M17.41 7.96l-1.37-1.37c-.4-.4-.92-.59-1.43-.59-.52 0-1.04.2-1.43.59L10.3 9.45l-7.72 7.72c-.78.78-.78 2.05 0 2.83L4 21.41c.39.39.9.59 1.41.59.51 0 1.02-.2 1.41-.59l7.78-7.78 2.81-2.81c.8-.78.8-2.07 0-2.86zM5.41 20L4 18.59l7.72-7.72 1.47 1.35L5.41 20z\"/>\n",
              "  </svg>\n",
              "      </button>\n",
              "      \n",
              "  <style>\n",
              "    .colab-df-container {\n",
              "      display:flex;\n",
              "      flex-wrap:wrap;\n",
              "      gap: 12px;\n",
              "    }\n",
              "\n",
              "    .colab-df-convert {\n",
              "      background-color: #E8F0FE;\n",
              "      border: none;\n",
              "      border-radius: 50%;\n",
              "      cursor: pointer;\n",
              "      display: none;\n",
              "      fill: #1967D2;\n",
              "      height: 32px;\n",
              "      padding: 0 0 0 0;\n",
              "      width: 32px;\n",
              "    }\n",
              "\n",
              "    .colab-df-convert:hover {\n",
              "      background-color: #E2EBFA;\n",
              "      box-shadow: 0px 1px 2px rgba(60, 64, 67, 0.3), 0px 1px 3px 1px rgba(60, 64, 67, 0.15);\n",
              "      fill: #174EA6;\n",
              "    }\n",
              "\n",
              "    [theme=dark] .colab-df-convert {\n",
              "      background-color: #3B4455;\n",
              "      fill: #D2E3FC;\n",
              "    }\n",
              "\n",
              "    [theme=dark] .colab-df-convert:hover {\n",
              "      background-color: #434B5C;\n",
              "      box-shadow: 0px 1px 3px 1px rgba(0, 0, 0, 0.15);\n",
              "      filter: drop-shadow(0px 1px 2px rgba(0, 0, 0, 0.3));\n",
              "      fill: #FFFFFF;\n",
              "    }\n",
              "  </style>\n",
              "\n",
              "      <script>\n",
              "        const buttonEl =\n",
              "          document.querySelector('#df-bcbefe59-6d54-4fbc-bcc3-77cf3100ce7f button.colab-df-convert');\n",
              "        buttonEl.style.display =\n",
              "          google.colab.kernel.accessAllowed ? 'block' : 'none';\n",
              "\n",
              "        async function convertToInteractive(key) {\n",
              "          const element = document.querySelector('#df-bcbefe59-6d54-4fbc-bcc3-77cf3100ce7f');\n",
              "          const dataTable =\n",
              "            await google.colab.kernel.invokeFunction('convertToInteractive',\n",
              "                                                     [key], {});\n",
              "          if (!dataTable) return;\n",
              "\n",
              "          const docLinkHtml = 'Like what you see? Visit the ' +\n",
              "            '<a target=\"_blank\" href=https://colab.research.google.com/notebooks/data_table.ipynb>data table notebook</a>'\n",
              "            + ' to learn more about interactive tables.';\n",
              "          element.innerHTML = '';\n",
              "          dataTable['output_type'] = 'display_data';\n",
              "          await google.colab.output.renderOutput(dataTable, element);\n",
              "          const docLink = document.createElement('div');\n",
              "          docLink.innerHTML = docLinkHtml;\n",
              "          element.appendChild(docLink);\n",
              "        }\n",
              "      </script>\n",
              "    </div>\n",
              "  </div>\n",
              "  "
            ]
          },
          "metadata": {},
          "execution_count": 11
        }
      ],
      "source": [
        "data[['LIMIT_BAL', 'original_pred', 'backdoor_pred', 'original_constrained_pred', 'backdoor_constrained_pred']]"
      ]
    },
    {
      "cell_type": "markdown",
      "id": "4474732a-cff5-4db0-9f39-b174ac7ccaa8",
      "metadata": {
        "id": "4474732a-cff5-4db0-9f39-b174ac7ccaa8"
      },
      "source": [
        "## Generate a PD/ICE plot"
      ]
    },
    {
      "cell_type": "code",
      "execution_count": 12,
      "id": "c838fec8-71ae-4737-bffa-633e15fb8902",
      "metadata": {
        "id": "c838fec8-71ae-4737-bffa-633e15fb8902"
      },
      "outputs": [],
      "source": [
        "data = pd.read_csv('../Data/Data/credit_line_increase.csv')"
      ]
    },
    {
      "cell_type": "markdown",
      "source": [
        "### Assign target and inputs for models\n",
        "Note that Demographic features are not used as model inputs."
      ],
      "metadata": {
        "id": "l-aemY80kUGD"
      },
      "id": "l-aemY80kUGD"
    },
    {
      "cell_type": "code",
      "execution_count": 13,
      "id": "f5ed66c7-de37-4700-bef0-706f7dfb5722",
      "metadata": {
        "id": "f5ed66c7-de37-4700-bef0-706f7dfb5722"
      },
      "outputs": [],
      "source": [
        "id_col = 'ID'\n",
        "groups = ['SEX', 'RACE', 'EDUCATION', 'MARRIAGE', 'AGE']\n",
        "target = 'DELINQ_NEXT'\n",
        "demographic_cols = ['SEX', 'RACE','EDUCATION', 'MARRIAGE', 'AGE']"
      ]
    },
    {
      "cell_type": "markdown",
      "source": [
        "\n",
        "### Splitting dataset into train, validation and test set"
      ],
      "metadata": {
        "id": "bXj3Bk4BkN2D"
      },
      "id": "bXj3Bk4BkN2D"
    },
    {
      "cell_type": "code",
      "execution_count": 14,
      "id": "9f864650-551a-4156-8a16-414d51cb5c74",
      "metadata": {
        "colab": {
          "base_uri": "https://localhost:8080/"
        },
        "id": "9f864650-551a-4156-8a16-414d51cb5c74",
        "outputId": "c67c88bf-ac0c-45cc-d63f-211185020403"
      },
      "outputs": [
        {
          "output_type": "stream",
          "name": "stdout",
          "text": [
            "Train/Validation/Test sizes: 19958/5036/5006\n"
          ]
        }
      ],
      "source": [
        "np.random.seed(SEED)\n",
        "\n",
        "split_train_test = 2/3\n",
        "\n",
        "split = np.random.rand(len(data)) < split_train_test\n",
        "train = data[split].copy()\n",
        "test = data[~split].copy()\n",
        "\n",
        "split_test_valid = 1/2\n",
        "\n",
        "split = np.random.rand(len(test)) < split_test_valid\n",
        "valid = test[split].copy()\n",
        "test = test[~split].copy()\n",
        "\n",
        "del data\n",
        "\n",
        "print(f\"Train/Validation/Test sizes: {len(train)}/{len(valid)}/{len(test)}\")"
      ]
    },
    {
      "cell_type": "code",
      "execution_count": 15,
      "id": "4e8e8fe2-9b42-4dc1-8cea-020e8f6de4b4",
      "metadata": {
        "id": "4e8e8fe2-9b42-4dc1-8cea-020e8f6de4b4"
      },
      "outputs": [],
      "source": [
        "features = [col for col in train.columns if col not in groups + ['ID', target]]\n",
        "\n",
        "# Converting Pandas dataframe into H2O Frame\n",
        "training_frame = h2o.H2OFrame(train)\n",
        "validation_frame = h2o.H2OFrame(valid)\n",
        "test_frame = h2o.H2OFrame(test)\n",
        "\n",
        "# Setting target column to factor so we can build classification model\n",
        "training_frame[target] = training_frame[target].asfactor()\n",
        "validation_frame[target] = validation_frame[target].asfactor()\n",
        "test_frame[target] = test_frame[target].asfactor()"
      ]
    },
    {
      "cell_type": "markdown",
      "id": "19d60e25-479c-42f2-95ad-e985abe1fd5e",
      "metadata": {
        "id": "19d60e25-479c-42f2-95ad-e985abe1fd5e"
      },
      "source": [
        "### Investigating Pairwise Spearman Correlations with the Target Variable"
      ]
    },
    {
      "cell_type": "code",
      "execution_count": 16,
      "id": "8e7ffc0d-6d5a-4c8c-88fc-5b631ab85b32",
      "metadata": {
        "id": "8e7ffc0d-6d5a-4c8c-88fc-5b631ab85b32"
      },
      "outputs": [],
      "source": [
        "corr = pd.DataFrame(train[features + [target]].corr(method='spearman')[target]).iloc[:-1]\n",
        "corr.columns = ['Spearman Correlation Coefficient']\n",
        "\n",
        "values = [int(i) for i in np.sign(corr.values)]\n",
        "mono_constraints = dict(zip(corr.index, values))"
      ]
    },
    {
      "cell_type": "markdown",
      "id": "22ae14e5-9e1f-4ae2-8c52-2879ed1f8c56",
      "metadata": {
        "id": "22ae14e5-9e1f-4ae2-8c52-2879ed1f8c56"
      },
      "source": [
        "### Train XGBoost with  L2 Regularisation\n",
        "\n",
        "Using grid Search to find the best hyperparameter values"
      ]
    },
    {
      "cell_type": "code",
      "execution_count": 17,
      "id": "77830e65-afa1-49f8-9ac7-a8e1dbe1a073",
      "metadata": {
        "id": "77830e65-afa1-49f8-9ac7-a8e1dbe1a073",
        "colab": {
          "base_uri": "https://localhost:8080/"
        },
        "outputId": "c62a9259-386e-431b-f231-380dc694a399"
      },
      "outputs": [
        {
          "output_type": "stream",
          "name": "stderr",
          "text": [
            "/usr/local/lib/python3.7/dist-packages/h2o/estimators/estimator_base.py:193: RuntimeWarning: Using user-provided parameter eta instead of learn_rate.\"\n",
            "  warnings.warn(mesg[\"message\"], RuntimeWarning)\n"
          ]
        }
      ],
      "source": [
        "# params obtained out of grid Search\n",
        "params_best = {'reg_lambda': 0.25,\n",
        "               'min_child_weight': 1,\n",
        "               'eta': 0.08,\n",
        "               'sample_rate': 0.8,\n",
        "               'col_sample_rate_per_tree': 0.8,\n",
        "               'max_depth': 3}\n",
        "\n",
        "xgb_best = H2OXGBoostEstimator(**params_best, \n",
        "                               monotone_constraints=mono_constraints)\n",
        "\n",
        "xgb_best = xgb_best.train(x=features, y=target, \n",
        "                          training_frame=training_frame, \n",
        "                          validation_frame=validation_frame)"
      ]
    },
    {
      "cell_type": "markdown",
      "source": [
        "## Backdoor testing"
      ],
      "metadata": {
        "id": "1vHYtGbA2QTe"
      },
      "id": "1vHYtGbA2QTe"
    },
    {
      "cell_type": "code",
      "execution_count": 18,
      "id": "2bd31ce0-c43e-4757-aba1-679f7d0e6d53",
      "metadata": {
        "id": "2bd31ce0-c43e-4757-aba1-679f7d0e6d53"
      },
      "outputs": [],
      "source": [
        "def predict_backdoor(X):\n",
        "    X = h2o.H2OFrame(X)\n",
        "    prediction = xgb_best.predict(X)['p1'].as_data_frame()\n",
        "    prediction = np.where((X['LIMIT_BAL'] < 0).as_data_frame(), 0.0, prediction)\n",
        "    return prediction\n",
        "\n",
        "def predict(X):\n",
        "    X = h2o.H2OFrame(X)\n",
        "    prediction = xgb_best.predict(X)['p1'].as_data_frame().values\n",
        "    return prediction"
      ]
    },
    {
      "cell_type": "code",
      "execution_count": 19,
      "id": "2b5a23c9-3a19-4d62-9f35-622b6d9fcc6e",
      "metadata": {
        "id": "2b5a23c9-3a19-4d62-9f35-622b6d9fcc6e"
      },
      "outputs": [],
      "source": [
        "data = pd.read_csv('../Data/Data/backdoor_testing/test_data.csv', index_col=0)\n",
        "data_all = pd.read_csv('../Data/Data/credit_line_increase.csv')\n",
        "data = pd.concat([data, data_all])\n",
        "data = data.reset_index(drop=True).sample(frac=1).sort_index()"
      ]
    },
    {
      "cell_type": "code",
      "execution_count": 20,
      "id": "457df04a-07fd-417b-bc64-7852604bb891",
      "metadata": {
        "colab": {
          "base_uri": "https://localhost:8080/",
          "height": 488
        },
        "id": "457df04a-07fd-417b-bc64-7852604bb891",
        "outputId": "accb648b-dc44-4001-fe17-01097cb7cb6f"
      },
      "outputs": [
        {
          "output_type": "execute_result",
          "data": {
            "text/plain": [
              "           LIMIT_BAL  PAY_0  PAY_2  PAY_3  PAY_4  PAY_5  PAY_6      BILL_AMT1  \\\n",
              "0        3740.562847      1      7      5      6      3      4  286379.131652   \n",
              "1      202514.371277      5      7     -1      9      4     -1  668635.327476   \n",
              "2      545067.464669      5      9      2      5      2      3  309537.158803   \n",
              "3      408512.204277      4      9      8      6      2      6  251734.126554   \n",
              "4      735039.377850      2     -1      4      8      7      8  399910.165372   \n",
              "...              ...    ...    ...    ...    ...    ...    ...            ...   \n",
              "30005  220000.000000      0      0      0      0      0      0  188948.000000   \n",
              "30006  150000.000000     -1     -1     -1     -1      0      0    1683.000000   \n",
              "30007   30000.000000      4      3      2     -1      0      0    3565.000000   \n",
              "30008   80000.000000      1     -1      0      0      0     -1   -1645.000000   \n",
              "30009   50000.000000      0      0      0      0      0      0   47929.000000   \n",
              "\n",
              "          BILL_AMT2     BILL_AMT3     BILL_AMT4      BILL_AMT5     BILL_AMT6  \\\n",
              "0      1.291428e+04  3.307170e+05  1.914352e+03  836645.583192  4.159125e+05   \n",
              "1      1.033447e+06  1.509592e+06  6.802333e+05  412059.259732  3.750114e+05   \n",
              "2      2.143459e+05  3.949335e+05  5.223841e+05   28162.341527  1.056685e+05   \n",
              "3      2.839080e+05  3.965971e+05  1.436425e+06   26839.128926  1.136314e+06   \n",
              "4      8.637817e+05  2.797559e+05  2.471177e+05  420238.242646  4.526391e+05   \n",
              "...             ...           ...           ...            ...           ...   \n",
              "30005  1.928150e+05  2.083650e+05  8.800400e+04   31237.000000  1.598000e+04   \n",
              "30006  1.828000e+03  3.502000e+03  8.979000e+03    5190.000000  0.000000e+00   \n",
              "30007  3.356000e+03  2.758000e+03  2.087800e+04   20582.000000  1.935700e+04   \n",
              "30008  7.837900e+04  7.630400e+04  5.277400e+04   11855.000000  4.894400e+04   \n",
              "30009  4.890500e+04  4.976400e+04  3.653500e+04   32428.000000  1.531300e+04   \n",
              "\n",
              "            PAY_AMT1      PAY_AMT2       PAY_AMT3      PAY_AMT4      PAY_AMT5  \\\n",
              "0       13849.956696  1.462118e+04  185442.029413  5.481944e+04  1.087399e+06   \n",
              "1      409259.853898  9.848170e+04  122800.178585  1.011604e+06  4.943678e+05   \n",
              "2      533200.085179  1.799774e+06   21894.167511  4.936164e+05  5.786231e+05   \n",
              "3      413819.061711  3.933286e+05   15569.375817  2.530385e+05  6.760224e+04   \n",
              "4       60184.389071  7.075573e+05  514521.453535  1.164633e+04  1.372157e+05   \n",
              "...              ...           ...            ...           ...           ...   \n",
              "30005    8500.000000  2.000000e+04    5003.000000  3.047000e+03  5.000000e+03   \n",
              "30006    1837.000000  3.526000e+03    8998.000000  1.290000e+02  0.000000e+00   \n",
              "30007       0.000000  0.000000e+00   22000.000000  4.200000e+03  2.000000e+03   \n",
              "30008   85900.000000  3.409000e+03    1178.000000  1.926000e+03  5.296400e+04   \n",
              "30009    2078.000000  1.800000e+03    1430.000000  1.000000e+03  1.000000e+03   \n",
              "\n",
              "            PAY_AMT6       ID  SEX  RACE  EDUCATION  MARRIAGE   AGE  \\\n",
              "0      859031.013767      NaN  NaN   NaN        NaN       NaN   NaN   \n",
              "1      127498.307337      NaN  NaN   NaN        NaN       NaN   NaN   \n",
              "2      252780.141627      NaN  NaN   NaN        NaN       NaN   NaN   \n",
              "3      126512.993193      NaN  NaN   NaN        NaN       NaN   NaN   \n",
              "4      165103.274266      NaN  NaN   NaN        NaN       NaN   NaN   \n",
              "...              ...      ...  ...   ...        ...       ...   ...   \n",
              "30005    1000.000000  29996.0  1.0   4.0        3.0       1.0  39.0   \n",
              "30006       0.000000  29997.0  1.0   4.0        3.0       2.0  43.0   \n",
              "30007    3100.000000  29998.0  1.0   1.0        2.0       2.0  37.0   \n",
              "30008    1804.000000  29999.0  1.0   2.0        3.0       1.0  41.0   \n",
              "30009    1000.000000  30000.0  1.0   2.0        2.0       1.0  46.0   \n",
              "\n",
              "       DELINQ_NEXT  \n",
              "0              NaN  \n",
              "1              NaN  \n",
              "2              NaN  \n",
              "3              NaN  \n",
              "4              NaN  \n",
              "...            ...  \n",
              "30005          0.0  \n",
              "30006          0.0  \n",
              "30007          1.0  \n",
              "30008          1.0  \n",
              "30009          1.0  \n",
              "\n",
              "[30010 rows x 26 columns]"
            ],
            "text/html": [
              "\n",
              "  <div id=\"df-26aacf52-18e9-4c19-8cbe-f06f0759be33\">\n",
              "    <div class=\"colab-df-container\">\n",
              "      <div>\n",
              "<style scoped>\n",
              "    .dataframe tbody tr th:only-of-type {\n",
              "        vertical-align: middle;\n",
              "    }\n",
              "\n",
              "    .dataframe tbody tr th {\n",
              "        vertical-align: top;\n",
              "    }\n",
              "\n",
              "    .dataframe thead th {\n",
              "        text-align: right;\n",
              "    }\n",
              "</style>\n",
              "<table border=\"1\" class=\"dataframe\">\n",
              "  <thead>\n",
              "    <tr style=\"text-align: right;\">\n",
              "      <th></th>\n",
              "      <th>LIMIT_BAL</th>\n",
              "      <th>PAY_0</th>\n",
              "      <th>PAY_2</th>\n",
              "      <th>PAY_3</th>\n",
              "      <th>PAY_4</th>\n",
              "      <th>PAY_5</th>\n",
              "      <th>PAY_6</th>\n",
              "      <th>BILL_AMT1</th>\n",
              "      <th>BILL_AMT2</th>\n",
              "      <th>BILL_AMT3</th>\n",
              "      <th>BILL_AMT4</th>\n",
              "      <th>BILL_AMT5</th>\n",
              "      <th>BILL_AMT6</th>\n",
              "      <th>PAY_AMT1</th>\n",
              "      <th>PAY_AMT2</th>\n",
              "      <th>PAY_AMT3</th>\n",
              "      <th>PAY_AMT4</th>\n",
              "      <th>PAY_AMT5</th>\n",
              "      <th>PAY_AMT6</th>\n",
              "      <th>ID</th>\n",
              "      <th>SEX</th>\n",
              "      <th>RACE</th>\n",
              "      <th>EDUCATION</th>\n",
              "      <th>MARRIAGE</th>\n",
              "      <th>AGE</th>\n",
              "      <th>DELINQ_NEXT</th>\n",
              "    </tr>\n",
              "  </thead>\n",
              "  <tbody>\n",
              "    <tr>\n",
              "      <th>0</th>\n",
              "      <td>3740.562847</td>\n",
              "      <td>1</td>\n",
              "      <td>7</td>\n",
              "      <td>5</td>\n",
              "      <td>6</td>\n",
              "      <td>3</td>\n",
              "      <td>4</td>\n",
              "      <td>286379.131652</td>\n",
              "      <td>1.291428e+04</td>\n",
              "      <td>3.307170e+05</td>\n",
              "      <td>1.914352e+03</td>\n",
              "      <td>836645.583192</td>\n",
              "      <td>4.159125e+05</td>\n",
              "      <td>13849.956696</td>\n",
              "      <td>1.462118e+04</td>\n",
              "      <td>185442.029413</td>\n",
              "      <td>5.481944e+04</td>\n",
              "      <td>1.087399e+06</td>\n",
              "      <td>859031.013767</td>\n",
              "      <td>NaN</td>\n",
              "      <td>NaN</td>\n",
              "      <td>NaN</td>\n",
              "      <td>NaN</td>\n",
              "      <td>NaN</td>\n",
              "      <td>NaN</td>\n",
              "      <td>NaN</td>\n",
              "    </tr>\n",
              "    <tr>\n",
              "      <th>1</th>\n",
              "      <td>202514.371277</td>\n",
              "      <td>5</td>\n",
              "      <td>7</td>\n",
              "      <td>-1</td>\n",
              "      <td>9</td>\n",
              "      <td>4</td>\n",
              "      <td>-1</td>\n",
              "      <td>668635.327476</td>\n",
              "      <td>1.033447e+06</td>\n",
              "      <td>1.509592e+06</td>\n",
              "      <td>6.802333e+05</td>\n",
              "      <td>412059.259732</td>\n",
              "      <td>3.750114e+05</td>\n",
              "      <td>409259.853898</td>\n",
              "      <td>9.848170e+04</td>\n",
              "      <td>122800.178585</td>\n",
              "      <td>1.011604e+06</td>\n",
              "      <td>4.943678e+05</td>\n",
              "      <td>127498.307337</td>\n",
              "      <td>NaN</td>\n",
              "      <td>NaN</td>\n",
              "      <td>NaN</td>\n",
              "      <td>NaN</td>\n",
              "      <td>NaN</td>\n",
              "      <td>NaN</td>\n",
              "      <td>NaN</td>\n",
              "    </tr>\n",
              "    <tr>\n",
              "      <th>2</th>\n",
              "      <td>545067.464669</td>\n",
              "      <td>5</td>\n",
              "      <td>9</td>\n",
              "      <td>2</td>\n",
              "      <td>5</td>\n",
              "      <td>2</td>\n",
              "      <td>3</td>\n",
              "      <td>309537.158803</td>\n",
              "      <td>2.143459e+05</td>\n",
              "      <td>3.949335e+05</td>\n",
              "      <td>5.223841e+05</td>\n",
              "      <td>28162.341527</td>\n",
              "      <td>1.056685e+05</td>\n",
              "      <td>533200.085179</td>\n",
              "      <td>1.799774e+06</td>\n",
              "      <td>21894.167511</td>\n",
              "      <td>4.936164e+05</td>\n",
              "      <td>5.786231e+05</td>\n",
              "      <td>252780.141627</td>\n",
              "      <td>NaN</td>\n",
              "      <td>NaN</td>\n",
              "      <td>NaN</td>\n",
              "      <td>NaN</td>\n",
              "      <td>NaN</td>\n",
              "      <td>NaN</td>\n",
              "      <td>NaN</td>\n",
              "    </tr>\n",
              "    <tr>\n",
              "      <th>3</th>\n",
              "      <td>408512.204277</td>\n",
              "      <td>4</td>\n",
              "      <td>9</td>\n",
              "      <td>8</td>\n",
              "      <td>6</td>\n",
              "      <td>2</td>\n",
              "      <td>6</td>\n",
              "      <td>251734.126554</td>\n",
              "      <td>2.839080e+05</td>\n",
              "      <td>3.965971e+05</td>\n",
              "      <td>1.436425e+06</td>\n",
              "      <td>26839.128926</td>\n",
              "      <td>1.136314e+06</td>\n",
              "      <td>413819.061711</td>\n",
              "      <td>3.933286e+05</td>\n",
              "      <td>15569.375817</td>\n",
              "      <td>2.530385e+05</td>\n",
              "      <td>6.760224e+04</td>\n",
              "      <td>126512.993193</td>\n",
              "      <td>NaN</td>\n",
              "      <td>NaN</td>\n",
              "      <td>NaN</td>\n",
              "      <td>NaN</td>\n",
              "      <td>NaN</td>\n",
              "      <td>NaN</td>\n",
              "      <td>NaN</td>\n",
              "    </tr>\n",
              "    <tr>\n",
              "      <th>4</th>\n",
              "      <td>735039.377850</td>\n",
              "      <td>2</td>\n",
              "      <td>-1</td>\n",
              "      <td>4</td>\n",
              "      <td>8</td>\n",
              "      <td>7</td>\n",
              "      <td>8</td>\n",
              "      <td>399910.165372</td>\n",
              "      <td>8.637817e+05</td>\n",
              "      <td>2.797559e+05</td>\n",
              "      <td>2.471177e+05</td>\n",
              "      <td>420238.242646</td>\n",
              "      <td>4.526391e+05</td>\n",
              "      <td>60184.389071</td>\n",
              "      <td>7.075573e+05</td>\n",
              "      <td>514521.453535</td>\n",
              "      <td>1.164633e+04</td>\n",
              "      <td>1.372157e+05</td>\n",
              "      <td>165103.274266</td>\n",
              "      <td>NaN</td>\n",
              "      <td>NaN</td>\n",
              "      <td>NaN</td>\n",
              "      <td>NaN</td>\n",
              "      <td>NaN</td>\n",
              "      <td>NaN</td>\n",
              "      <td>NaN</td>\n",
              "    </tr>\n",
              "    <tr>\n",
              "      <th>...</th>\n",
              "      <td>...</td>\n",
              "      <td>...</td>\n",
              "      <td>...</td>\n",
              "      <td>...</td>\n",
              "      <td>...</td>\n",
              "      <td>...</td>\n",
              "      <td>...</td>\n",
              "      <td>...</td>\n",
              "      <td>...</td>\n",
              "      <td>...</td>\n",
              "      <td>...</td>\n",
              "      <td>...</td>\n",
              "      <td>...</td>\n",
              "      <td>...</td>\n",
              "      <td>...</td>\n",
              "      <td>...</td>\n",
              "      <td>...</td>\n",
              "      <td>...</td>\n",
              "      <td>...</td>\n",
              "      <td>...</td>\n",
              "      <td>...</td>\n",
              "      <td>...</td>\n",
              "      <td>...</td>\n",
              "      <td>...</td>\n",
              "      <td>...</td>\n",
              "      <td>...</td>\n",
              "    </tr>\n",
              "    <tr>\n",
              "      <th>30005</th>\n",
              "      <td>220000.000000</td>\n",
              "      <td>0</td>\n",
              "      <td>0</td>\n",
              "      <td>0</td>\n",
              "      <td>0</td>\n",
              "      <td>0</td>\n",
              "      <td>0</td>\n",
              "      <td>188948.000000</td>\n",
              "      <td>1.928150e+05</td>\n",
              "      <td>2.083650e+05</td>\n",
              "      <td>8.800400e+04</td>\n",
              "      <td>31237.000000</td>\n",
              "      <td>1.598000e+04</td>\n",
              "      <td>8500.000000</td>\n",
              "      <td>2.000000e+04</td>\n",
              "      <td>5003.000000</td>\n",
              "      <td>3.047000e+03</td>\n",
              "      <td>5.000000e+03</td>\n",
              "      <td>1000.000000</td>\n",
              "      <td>29996.0</td>\n",
              "      <td>1.0</td>\n",
              "      <td>4.0</td>\n",
              "      <td>3.0</td>\n",
              "      <td>1.0</td>\n",
              "      <td>39.0</td>\n",
              "      <td>0.0</td>\n",
              "    </tr>\n",
              "    <tr>\n",
              "      <th>30006</th>\n",
              "      <td>150000.000000</td>\n",
              "      <td>-1</td>\n",
              "      <td>-1</td>\n",
              "      <td>-1</td>\n",
              "      <td>-1</td>\n",
              "      <td>0</td>\n",
              "      <td>0</td>\n",
              "      <td>1683.000000</td>\n",
              "      <td>1.828000e+03</td>\n",
              "      <td>3.502000e+03</td>\n",
              "      <td>8.979000e+03</td>\n",
              "      <td>5190.000000</td>\n",
              "      <td>0.000000e+00</td>\n",
              "      <td>1837.000000</td>\n",
              "      <td>3.526000e+03</td>\n",
              "      <td>8998.000000</td>\n",
              "      <td>1.290000e+02</td>\n",
              "      <td>0.000000e+00</td>\n",
              "      <td>0.000000</td>\n",
              "      <td>29997.0</td>\n",
              "      <td>1.0</td>\n",
              "      <td>4.0</td>\n",
              "      <td>3.0</td>\n",
              "      <td>2.0</td>\n",
              "      <td>43.0</td>\n",
              "      <td>0.0</td>\n",
              "    </tr>\n",
              "    <tr>\n",
              "      <th>30007</th>\n",
              "      <td>30000.000000</td>\n",
              "      <td>4</td>\n",
              "      <td>3</td>\n",
              "      <td>2</td>\n",
              "      <td>-1</td>\n",
              "      <td>0</td>\n",
              "      <td>0</td>\n",
              "      <td>3565.000000</td>\n",
              "      <td>3.356000e+03</td>\n",
              "      <td>2.758000e+03</td>\n",
              "      <td>2.087800e+04</td>\n",
              "      <td>20582.000000</td>\n",
              "      <td>1.935700e+04</td>\n",
              "      <td>0.000000</td>\n",
              "      <td>0.000000e+00</td>\n",
              "      <td>22000.000000</td>\n",
              "      <td>4.200000e+03</td>\n",
              "      <td>2.000000e+03</td>\n",
              "      <td>3100.000000</td>\n",
              "      <td>29998.0</td>\n",
              "      <td>1.0</td>\n",
              "      <td>1.0</td>\n",
              "      <td>2.0</td>\n",
              "      <td>2.0</td>\n",
              "      <td>37.0</td>\n",
              "      <td>1.0</td>\n",
              "    </tr>\n",
              "    <tr>\n",
              "      <th>30008</th>\n",
              "      <td>80000.000000</td>\n",
              "      <td>1</td>\n",
              "      <td>-1</td>\n",
              "      <td>0</td>\n",
              "      <td>0</td>\n",
              "      <td>0</td>\n",
              "      <td>-1</td>\n",
              "      <td>-1645.000000</td>\n",
              "      <td>7.837900e+04</td>\n",
              "      <td>7.630400e+04</td>\n",
              "      <td>5.277400e+04</td>\n",
              "      <td>11855.000000</td>\n",
              "      <td>4.894400e+04</td>\n",
              "      <td>85900.000000</td>\n",
              "      <td>3.409000e+03</td>\n",
              "      <td>1178.000000</td>\n",
              "      <td>1.926000e+03</td>\n",
              "      <td>5.296400e+04</td>\n",
              "      <td>1804.000000</td>\n",
              "      <td>29999.0</td>\n",
              "      <td>1.0</td>\n",
              "      <td>2.0</td>\n",
              "      <td>3.0</td>\n",
              "      <td>1.0</td>\n",
              "      <td>41.0</td>\n",
              "      <td>1.0</td>\n",
              "    </tr>\n",
              "    <tr>\n",
              "      <th>30009</th>\n",
              "      <td>50000.000000</td>\n",
              "      <td>0</td>\n",
              "      <td>0</td>\n",
              "      <td>0</td>\n",
              "      <td>0</td>\n",
              "      <td>0</td>\n",
              "      <td>0</td>\n",
              "      <td>47929.000000</td>\n",
              "      <td>4.890500e+04</td>\n",
              "      <td>4.976400e+04</td>\n",
              "      <td>3.653500e+04</td>\n",
              "      <td>32428.000000</td>\n",
              "      <td>1.531300e+04</td>\n",
              "      <td>2078.000000</td>\n",
              "      <td>1.800000e+03</td>\n",
              "      <td>1430.000000</td>\n",
              "      <td>1.000000e+03</td>\n",
              "      <td>1.000000e+03</td>\n",
              "      <td>1000.000000</td>\n",
              "      <td>30000.0</td>\n",
              "      <td>1.0</td>\n",
              "      <td>2.0</td>\n",
              "      <td>2.0</td>\n",
              "      <td>1.0</td>\n",
              "      <td>46.0</td>\n",
              "      <td>1.0</td>\n",
              "    </tr>\n",
              "  </tbody>\n",
              "</table>\n",
              "<p>30010 rows × 26 columns</p>\n",
              "</div>\n",
              "      <button class=\"colab-df-convert\" onclick=\"convertToInteractive('df-26aacf52-18e9-4c19-8cbe-f06f0759be33')\"\n",
              "              title=\"Convert this dataframe to an interactive table.\"\n",
              "              style=\"display:none;\">\n",
              "        \n",
              "  <svg xmlns=\"http://www.w3.org/2000/svg\" height=\"24px\"viewBox=\"0 0 24 24\"\n",
              "       width=\"24px\">\n",
              "    <path d=\"M0 0h24v24H0V0z\" fill=\"none\"/>\n",
              "    <path d=\"M18.56 5.44l.94 2.06.94-2.06 2.06-.94-2.06-.94-.94-2.06-.94 2.06-2.06.94zm-11 1L8.5 8.5l.94-2.06 2.06-.94-2.06-.94L8.5 2.5l-.94 2.06-2.06.94zm10 10l.94 2.06.94-2.06 2.06-.94-2.06-.94-.94-2.06-.94 2.06-2.06.94z\"/><path d=\"M17.41 7.96l-1.37-1.37c-.4-.4-.92-.59-1.43-.59-.52 0-1.04.2-1.43.59L10.3 9.45l-7.72 7.72c-.78.78-.78 2.05 0 2.83L4 21.41c.39.39.9.59 1.41.59.51 0 1.02-.2 1.41-.59l7.78-7.78 2.81-2.81c.8-.78.8-2.07 0-2.86zM5.41 20L4 18.59l7.72-7.72 1.47 1.35L5.41 20z\"/>\n",
              "  </svg>\n",
              "      </button>\n",
              "      \n",
              "  <style>\n",
              "    .colab-df-container {\n",
              "      display:flex;\n",
              "      flex-wrap:wrap;\n",
              "      gap: 12px;\n",
              "    }\n",
              "\n",
              "    .colab-df-convert {\n",
              "      background-color: #E8F0FE;\n",
              "      border: none;\n",
              "      border-radius: 50%;\n",
              "      cursor: pointer;\n",
              "      display: none;\n",
              "      fill: #1967D2;\n",
              "      height: 32px;\n",
              "      padding: 0 0 0 0;\n",
              "      width: 32px;\n",
              "    }\n",
              "\n",
              "    .colab-df-convert:hover {\n",
              "      background-color: #E2EBFA;\n",
              "      box-shadow: 0px 1px 2px rgba(60, 64, 67, 0.3), 0px 1px 3px 1px rgba(60, 64, 67, 0.15);\n",
              "      fill: #174EA6;\n",
              "    }\n",
              "\n",
              "    [theme=dark] .colab-df-convert {\n",
              "      background-color: #3B4455;\n",
              "      fill: #D2E3FC;\n",
              "    }\n",
              "\n",
              "    [theme=dark] .colab-df-convert:hover {\n",
              "      background-color: #434B5C;\n",
              "      box-shadow: 0px 1px 3px 1px rgba(0, 0, 0, 0.15);\n",
              "      filter: drop-shadow(0px 1px 2px rgba(0, 0, 0, 0.3));\n",
              "      fill: #FFFFFF;\n",
              "    }\n",
              "  </style>\n",
              "\n",
              "      <script>\n",
              "        const buttonEl =\n",
              "          document.querySelector('#df-26aacf52-18e9-4c19-8cbe-f06f0759be33 button.colab-df-convert');\n",
              "        buttonEl.style.display =\n",
              "          google.colab.kernel.accessAllowed ? 'block' : 'none';\n",
              "\n",
              "        async function convertToInteractive(key) {\n",
              "          const element = document.querySelector('#df-26aacf52-18e9-4c19-8cbe-f06f0759be33');\n",
              "          const dataTable =\n",
              "            await google.colab.kernel.invokeFunction('convertToInteractive',\n",
              "                                                     [key], {});\n",
              "          if (!dataTable) return;\n",
              "\n",
              "          const docLinkHtml = 'Like what you see? Visit the ' +\n",
              "            '<a target=\"_blank\" href=https://colab.research.google.com/notebooks/data_table.ipynb>data table notebook</a>'\n",
              "            + ' to learn more about interactive tables.';\n",
              "          element.innerHTML = '';\n",
              "          dataTable['output_type'] = 'display_data';\n",
              "          await google.colab.output.renderOutput(dataTable, element);\n",
              "          const docLink = document.createElement('div');\n",
              "          docLink.innerHTML = docLinkHtml;\n",
              "          element.appendChild(docLink);\n",
              "        }\n",
              "      </script>\n",
              "    </div>\n",
              "  </div>\n",
              "  "
            ]
          },
          "metadata": {},
          "execution_count": 20
        }
      ],
      "source": [
        "data"
      ]
    },
    {
      "cell_type": "code",
      "source": [
        "from Data import hrml_book\n",
        "from hrml_book import explain\n"
      ],
      "metadata": {
        "id": "4UYZWIBM4g7j"
      },
      "id": "4UYZWIBM4g7j",
      "execution_count": 22,
      "outputs": []
    },
    {
      "cell_type": "code",
      "execution_count": 23,
      "id": "1c418dec-490d-4271-a176-f9c044e6ca4e",
      "metadata": {
        "colab": {
          "base_uri": "https://localhost:8080/",
          "height": 407
        },
        "id": "1c418dec-490d-4271-a176-f9c044e6ca4e",
        "outputId": "857f34fd-e6ec-4ec1-9fa4-64e5d218e1de"
      },
      "outputs": [
        {
          "output_type": "stream",
          "name": "stderr",
          "text": [
            "/content/Data/hrml_book/explain.py:20: SettingWithCopyWarning: \n",
            "A value is trying to be set on a copy of a slice from a DataFrame.\n",
            "Try using .loc[row_indexer,col_indexer] = value instead\n",
            "\n",
            "See the caveats in the documentation: https://pandas.pydata.org/pandas-docs/stable/user_guide/indexing.html#returning-a-view-versus-a-copy\n",
            "  X[y.name] = y\n"
          ]
        },
        {
          "output_type": "display_data",
          "data": {
            "text/plain": [
              "<Figure size 432x288 with 3 Axes>"
            ],
            "image/png": "[encoded data removed]"
          },
          "metadata": {
            "needs_background": "light"
          }
        }
      ],
      "source": [
        "fig = explain.plot_partial_dep_ice(feature='LIMIT_BAL',\n",
        "                                   X=data[features],\n",
        "                                   y=data[target],\n",
        "                                   predict=lambda x: predict_backdoor(x[features]))\n",
        "fig.savefig('../Data/Data/Figures/pd_ice_backdoor.svg', bbox_inches='tight')"
      ]
    },
    {
      "cell_type": "code",
      "execution_count": 25,
      "id": "e9628090-bef7-4b39-9337-5433448dd99b",
      "metadata": {
        "colab": {
          "base_uri": "https://localhost:8080/",
          "height": 283
        },
        "id": "e9628090-bef7-4b39-9337-5433448dd99b",
        "outputId": "c0634a75-cd2d-4b70-e6ee-aee89609defd"
      },
      "outputs": [
        {
          "output_type": "display_data",
          "data": {
            "text/plain": [
              "<Figure size 432x288 with 3 Axes>"
            ],
            "image/png": "[encoded data removed]"
          },
          "metadata": {
            "needs_background": "light"
          }
        }
      ],
      "source": [
        "fig_2 = explain.plot_partial_dep_ice(feature='LIMIT_BAL',\n",
        "                                     X=data[features],\n",
        "                                     y=data[target],\n",
        "                                     predict=lambda x: predict(x[features]))\n",
        "fig_2.savefig('../Data/Data/Figures/pd_ice_no_backdoor.svg', bbox_inches='tight')"
      ]
    },
    {
      "cell_type": "markdown",
      "source": [
        "##Shutdown H2O Cluster\n"
      ],
      "metadata": {
        "id": "Q_5HVI_S3AoG"
      },
      "id": "Q_5HVI_S3AoG"
    },
    {
      "cell_type": "code",
      "source": [
        "h2o.cluster().shutdown(prompt=True)"
      ],
      "metadata": {
        "colab": {
          "base_uri": "https://localhost:8080/"
        },
        "id": "mvBre4at23mE",
        "outputId": "d7534e10-979a-4edf-9ba5-4d81c534d5e4"
      },
      "id": "mvBre4at23mE",
      "execution_count": 26,
      "outputs": [
        {
          "output_type": "stream",
          "name": "stdout",
          "text": [
            "Are you sure you want to shutdown the H2O instance running at http://127.0.0.1:54321 (Y/N)? y\n",
            "H2O session _sid_94be closed.\n"
          ]
        }
      ]
    },
    {
      "cell_type": "code",
      "source": [],
      "metadata": {
        "id": "ssXwCXY23HJk"
      },
      "id": "ssXwCXY23HJk",
      "execution_count": null,
      "outputs": []
    }
  ],
  "metadata": {
    "kernelspec": {
      "display_name": "Python 3 (ipykernel)",
      "language": "python",
      "name": "python3"
    },
    "language_info": {
      "codemirror_mode": {
        "name": "ipython",
        "version": 3
      },
      "file_extension": ".py",
      "mimetype": "text/x-python",
      "name": "python",
      "nbconvert_exporter": "python",
      "pygments_lexer": "ipython3",
      "version": "3.9.6"
    },
    "colab": {
      "provenance": [],
      "include_colab_link": true
    }
  },
  "nbformat": 4,
  "nbformat_minor": 5
}